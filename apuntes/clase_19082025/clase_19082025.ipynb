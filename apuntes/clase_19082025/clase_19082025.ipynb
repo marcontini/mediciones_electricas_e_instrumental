{
 "cells": [
  {
   "cell_type": "markdown",
   "id": "e5469827",
   "metadata": {},
   "source": [
    "**INSTRUMENTOS ANALOGICOS**\n",
    "La señal de entrada es representada directamente por el instrumento.\n",
    "\n",
    "**ERRORES DE METODO**\n",
    "Las lecturas de una señal van a estar corridas por un error creado por el instrumento usado."
   ]
  },
  {
   "cell_type": "markdown",
   "id": "545bdf16",
   "metadata": {},
   "source": [
    "**FACTOR DE CRESTA**\n",
    "Relacion entre el pico y el valor verdadero eficaz -> En una senoidal el cociente es 1.41\n",
    "\n",
    "**FACTOR DE FORMA**\n",
    "Relacion entre el valor medio y el valor verdadero eficaz -> En una senoidal el cociente es 1.11"
   ]
  },
  {
   "cell_type": "markdown",
   "id": "481b7862",
   "metadata": {},
   "source": [
    "**ERRORES COMETIDOS POR EL INSTRUMENTO**\n",
    "- Error de *CLASE*: Ec = ∆V/Vmax (Es el error relativo cometido en una medición)\n",
    "- Error de *PARALAJE*: Falta de perpendicularidad \n",
    "\n",
    "\n",
    "*Ejemplo:* Tensión a medir = 30V\n",
    "    - Voltimetro analogico:\n",
    "        - Clase 3\n",
    "        - Vpe = 10V, 50V, 100V, 500V\n",
    "        - ape = 50 DIV\n",
    "        - Error de lectura ∆a = 0.2 DIV\n",
    "    \n",
    "    - Lectura: Alcance de 100V\n",
    "\n",
    "        E = Ec(∆V/Vmax) = 0.03 x (100 V/ 50 DIV)/100V"
   ]
  },
  {
   "cell_type": "markdown",
   "id": "db5d37d6",
   "metadata": {},
   "source": [
    "**CORRELACION**\n"
   ]
  }
 ],
 "metadata": {
  "language_info": {
   "name": "python"
  }
 },
 "nbformat": 4,
 "nbformat_minor": 5
}
