{
 "cells": [
  {
   "cell_type": "markdown",
   "id": "b1017188",
   "metadata": {},
   "source": [
    "# Ejercicio 1\n",
    "\n",
    "Se realizan 20 mediciones con un multímetro digital, repetidas en las mismas\n",
    "condiciones ambientales, obteniéndose una media aritmética de:\n",
    "\n",
    "\n",
    "y una desviación estándar experimental:\n",
    "\n",
    "\\begin{equation}\n",
    "S = 1{,}489 \\ \\text{V}\n",
    "\\end{equation}\n",
    "\n",
    "\n",
    "El multímetro posee las siguientes especificaciones:\n",
    "\n",
    "- Rango: 200 V  \n",
    "- Dígitos: 3 y ½  \n",
    "- Error máximo:  \n",
    "\n",
    "\\begin{equation}\n",
    "\\pm (0,5\\% \\ \\text{lectura} + 3 \\ \\text{dígitos})\n",
    "\\end{equation}\n",
    "\n",
    "Como el instrumento es de 3½ dígitos en el rango de 200 V, la menor unidad\n",
    "que muestra en pantalla es:\n",
    "\n",
    "\\begin{equation}\n",
    "\\text{LSD} = 0,1 \\ \\text{V}\n",
    "\\end{equation}\n",
    "\n",
    "\n",
    "Por lo tanto, si se indica que:\n",
    "\n",
    "\\begin{equation}\n",
    "\\text{err}_{\\text{máx}} = \\pm(0,5\\% \\ \\text{lectura} + 3 \\ \\text{dígitos})\n",
    "\\end{equation}\n",
    "\n",
    "\n",
    "entonces para este rango:\n",
    "\n",
    "\\begin{equation}\n",
    "\\text{err}_{\\text{máx}} = \\pm(0,5\\% \\ \\text{lectura} + 0,3 \\ \\text{V})\n",
    "\\end{equation}\n",
    "\n",
    "---"
   ]
  },
  {
   "cell_type": "code",
   "execution_count": null,
   "id": "19d60f9a",
   "metadata": {},
   "outputs": [],
   "source": [
    "import numpy as np\n",
    "from scipy import stats"
   ]
  },
  {
   "cell_type": "markdown",
   "id": "b931a3f8",
   "metadata": {},
   "source": [
    "------\n",
    "##### DATOS"
   ]
  },
  {
   "cell_type": "code",
   "execution_count": 8,
   "id": "182151a3",
   "metadata": {},
   "outputs": [],
   "source": [
    "N = 20      # Número de muestras\n",
    "M = 100.145 # [V] Media aritmética\n",
    "S = 1.489   # [V] Desvío Estándar Experimental\n",
    "rango = 200             # [V]\n",
    "err_max = [0.005, 0.3]  # [V]"
   ]
  },
  {
   "cell_type": "markdown",
   "id": "4f216ca1",
   "metadata": {},
   "source": [
    "---\n",
    "##### INCERTIDUMBRE TIPO A\n",
    "\n",
    "\\begin{equation}\n",
    "    \\mu_a = \\frac{S}{\\sqrt{N}}\n",
    "\\end{equation}"
   ]
  },
  {
   "cell_type": "code",
   "execution_count": 10,
   "id": "f6c93cee",
   "metadata": {},
   "outputs": [
    {
     "name": "stdout",
     "output_type": "stream",
     "text": [
      "0.333\n"
     ]
    }
   ],
   "source": [
    "u_a = round(S / np.sqrt(N), 3)  # Estimamos el desvío verdadero a partir de N muestras\n",
    "print(u_a)"
   ]
  },
  {
   "cell_type": "markdown",
   "id": "e104d8f3",
   "metadata": {},
   "source": [
    "---\n",
    "##### INCERTIDUMBRE TIPO B\n",
    "\n",
    "\\begin{equation}\n",
    "    \\mu_b = \\frac{E}{\\sqrt{k}}\n",
    "\\end{equation}\n",
    "\n",
    "Donde E:\n",
    "\n",
    "\\begin{equation}\n",
    "    E = M \\times 0.5\\% + 0.3V\n",
    "\\end{equation}\n",
    "\n",
    "Las especificaciones son un límite uniforme, por lo que se modela con distr.\n",
    "Rectangular, por ende el k = 3."
   ]
  },
  {
   "cell_type": "code",
   "execution_count": 11,
   "id": "e74ff79a",
   "metadata": {},
   "outputs": [
    {
     "name": "stdout",
     "output_type": "stream",
     "text": [
      "0.462\n"
     ]
    }
   ],
   "source": [
    "err_lectura = err_max[0]\n",
    "err_rango = err_max[1]\n",
    "E = round(M * err_lectura + err_rango, 3)\n",
    "k = 3\n",
    "u_b = round(E / np.sqrt(k), 3)\n",
    "print(u_b)"
   ]
  },
  {
   "cell_type": "markdown",
   "id": "8a6c8e0c",
   "metadata": {},
   "source": [
    "---\n",
    "##### INCERTIDUMBRE COMBINADA\n",
    "\n",
    "\\begin{equation}\n",
    "    \\mu_c = \\sqrt{\\mu_a^2 + \\mu_b^2}\n",
    "\\end{equation}"
   ]
  },
  {
   "cell_type": "code",
   "execution_count": 13,
   "id": "442ac053",
   "metadata": {},
   "outputs": [],
   "source": [
    "u_c = round(np.sqrt(u_a**2 + u_b**2), 3)"
   ]
  },
  {
   "cell_type": "markdown",
   "id": "169875e3",
   "metadata": {},
   "source": [
    "---\n",
    "##### GRADOS DE LIBERTAD EFECTIVOS\n",
    "\n",
    "\\begin{equation}\n",
    "    v_{eff} = \\frac{\\mu_c^4}{\\frac{\\mu_a^4}{N-1}}\n",
    "\\end{equation}"
   ]
  },
  {
   "cell_type": "code",
   "execution_count": 14,
   "id": "9421699e",
   "metadata": {},
   "outputs": [],
   "source": [
    "v_eff = round((u_c**4) / ((u_a**4) / (N - 1)), 0)"
   ]
  },
  {
   "cell_type": "markdown",
   "id": "045a5eec",
   "metadata": {},
   "source": [
    "Con los grados de libertad puedo buscar en la tabla de T-de-Student bilateral el factor k\n",
    "para corregir la incertidumbre combinada para un 95% de confianza.\n",
    "\n",
    "Al ser un estudio bilateral el Intervalo de Confianza del 95% para una T-de-Student se representa de la siguiente manera:\n",
    "\n",
    "\\begin{equation}\n",
    "    IC = (-t_{0,975;v_{eff}} ; t_{0,975;v_{eff}})\n",
    "\\end{equation}\n",
    "\n",
    "Por ende, mi k ajustado va a ser:\n",
    "\n",
    "\\begin{equation}\n",
    "    k = t_{0,975;v_{eff}}\n",
    "\\end{equation}\n",
    "\n",
    "que, ejecutando el siguiente script, me da:"
   ]
  },
  {
   "cell_type": "code",
   "execution_count": 20,
   "id": "59fb9e3d",
   "metadata": {},
   "outputs": [],
   "source": [
    "# Grados de libertad\n",
    "v_eff = 163\n",
    "\n",
    "# Nivel de significancia para una cola (α/2)\n",
    "conf = 0.95\n",
    "alpha = (1 - conf) / 2\n",
    "\n",
    "# Valor crítico t\n",
    "t_critical = round(stats.t.ppf(1 - alpha, v_eff),3)"
   ]
  },
  {
   "cell_type": "markdown",
   "id": "930b8567",
   "metadata": {},
   "source": [
    "---\n",
    "##### INCERTIDUMBRE EXPANDIDA\n",
    "\n",
    "\\begin{equation}\n",
    "    \\mu_{exp} = t_{critical} \\cdot \\mu_c\n",
    "\\end{equation}"
   ]
  },
  {
   "cell_type": "code",
   "execution_count": 21,
   "id": "f698991f",
   "metadata": {},
   "outputs": [],
   "source": [
    "u_exp = round(t_critical * u_c,3)"
   ]
  },
  {
   "cell_type": "markdown",
   "id": "56353ba0",
   "metadata": {},
   "source": [
    "---\n",
    "##### RESULTADOS"
   ]
  },
  {
   "cell_type": "code",
   "execution_count": 34,
   "id": "deb22cc5",
   "metadata": {},
   "outputs": [
    {
     "name": "stdout",
     "output_type": "stream",
     "text": [
      "\n",
      "u_a   :  0.333 V\n",
      "u_b   :  0.462 V\n",
      "u_c   :   0.57 V\n",
      "v_eff :    163\n",
      "t_crit:  1.975\n",
      "u_exp :  1.126 V\n",
      "------------------------\n",
      "V = (100.145 ± 1.126) V\n",
      "\n"
     ]
    }
   ],
   "source": [
    "print(f\"\"\"\n",
    "{'u_a':<6}: {u_a:>6} V\n",
    "{'u_b':<6}: {u_b:>6} V\n",
    "{'u_c':<6}: {u_c:>6} V\n",
    "{'v_eff':<6}: {v_eff:>6}\n",
    "{'t_crit':<6}: {t_critical:>6}\n",
    "{'u_exp':<6}: {u_exp:>6} V\n",
    "------------------------\n",
    "V = ({M} ± {u_exp}) V\n",
    "\"\"\")"
   ]
  },
  {
   "cell_type": "markdown",
   "id": "e6926bb0",
   "metadata": {},
   "source": [
    "---\n",
    "---\n",
    "# Ejercicio 2\n",
    "\n",
    "Considere cinco conjuntos independientes de observaciones simultáneas de las tres\n",
    "magnitudes de entrada V, I, y φ se obtienen en condiciones similares."
   ]
  },
  {
   "cell_type": "markdown",
   "id": "1e232c7b",
   "metadata": {},
   "source": [
    "![Texto alternativo](Captura.png)"
   ]
  },
  {
   "cell_type": "markdown",
   "id": "add3f48c",
   "metadata": {},
   "source": [
    "a) Cuáles son las circunstancias en las que debe observarse la correlación entre las\n",
    "magnitudes de entrada. ¿Un coeficiente de correlación igual a 0 (cero) indica que la\n",
    "correlación es alta o baja?\n",
    "\n",
    "    Se observa la correlación cuando interesa medir el grado de dependencia lineal entre dos magnitudes. Cuando el coeficiento de correlación es 0 indica que no hay dependencia lineal entre las magnitudes, o sea, no estan relacionadas linealmente las variables, aunque podrían estarlo no linealmente.\n",
    "\n",
    "b) Calcule la incertidumbre combinada de las cantidades R, X y Z."
   ]
  },
  {
   "cell_type": "code",
   "execution_count": 1,
   "id": "713e833b",
   "metadata": {},
   "outputs": [],
   "source": [
    "import numpy as np"
   ]
  },
  {
   "cell_type": "markdown",
   "id": "b7f447e5",
   "metadata": {},
   "source": [
    "---\n",
    "##### Variables"
   ]
  },
  {
   "cell_type": "code",
   "execution_count": 6,
   "id": "b1647f4e",
   "metadata": {},
   "outputs": [],
   "source": [
    "N = 5\n",
    "\n",
    "v_mean = 4.9990         # V\n",
    "i_mean = 19.6610/1000   # A\n",
    "ϕ_mean = 1.04446        # rad\n",
    "\n",
    "v_std = 0.0032          # V\n",
    "i_std = 0.0095/1000     # A\n",
    "ϕ_std = 0.00075         # rad\n",
    "\n",
    "cc_v_i = -0.36\n",
    "cc_v_ϕ = 0.86\n",
    "cc_i_ϕ = -0.65"
   ]
  },
  {
   "cell_type": "markdown",
   "id": "600a0694",
   "metadata": {},
   "source": [
    "---\n",
    "##### Incertidumbre Tipo A\n",
    "\n",
    "\\begin{equation}\n",
    "    \\mu_i = \\frac{\\sigma}{\\sqrt{N}}\n",
    "\\end{equation}"
   ]
  },
  {
   "cell_type": "code",
   "execution_count": 17,
   "id": "8a60029d",
   "metadata": {},
   "outputs": [],
   "source": [
    "v_u_i = v_std/np.sqrt(N)\n",
    "i_u_i = i_std/np.sqrt(N)\n",
    "ϕ_u_i = ϕ_std/np.sqrt(N)"
   ]
  },
  {
   "cell_type": "markdown",
   "id": "eb6a2c10",
   "metadata": {},
   "source": [
    "---\n",
    "#### Incertidumbre Combinada\n",
    "\n",
    "1) Modelo\n",
    "\n",
    "\\begin{equation}\n",
    "    Z = \\frac{V}{I}, \\space R = Z \\cos{\\phi}, \\space X = Z \\sin{\\phi}\n",
    "\\end{equation}\n",
    "\n",
    "2) Regla General (GUM)\n",
    "\n",
    "Para:\n",
    "\n",
    "\\begin{equation}\n",
    "    y = f(V, I, \\phi)\n",
    "\\end{equation}\n",
    "\n",
    "entonces:\n",
    "\n",
    "\\begin{equation}\n",
    "    u^2(y) = \\sum_i \\left( \\frac{\\partial f}{\\partial x_i} \\right)^{2} u^{2}(x_i)\n",
    "    \\;+\\; 2 \\sum_{i<j} \\frac{\\partial f}{\\partial x_i}\\frac{\\partial f}{\\partial x_j}\\,\n",
    "    u(x_i)u(x_j)\\,r(x_i,x_j)\n",
    "\\end{equation}\n",
    "\n",
    "3) Derivadas parciales necesarias\n",
    "\n",
    "- Para Z:\n",
    "\n",
    "\\begin{equation}\n",
    "    \\frac{\\partial Z}{\\partial V} = \\frac{1}{I}, \\space \\frac{\\partial Z}{\\partial I} = - \\frac{V}{I^2}, \\space \\frac{\\partial Z}{\\partial \\phi} = 0\n",
    "\\end{equation}\n",
    "\n",
    "- Para R:\n",
    "\n",
    "\\begin{equation}\n",
    "    \\frac{\\partial R}{\\partial V} = \\frac{\\cos{\\phi}}{I}, \\space \\frac{\\partial R}{\\partial I} = - \\frac{Z \\cos{\\phi}}{I}, \\space \\frac{\\partial Z}{\\partial \\phi} = - Z \\sin{\\phi}\n",
    "\\end{equation}\n",
    "\n",
    "- Para X:\n",
    "\n",
    "\\begin{equation}\n",
    "    \\frac{\\partial X}{\\partial V} = \\frac{\\sin{\\phi}}{I}, \\space \\frac{\\partial Z}{\\partial I} = - \\frac{Z \\sin{\\phi}}{I}, \\space \\frac{\\partial Z}{\\partial \\phi} = Z \\cos\n",
    "\\end{equation}"
   ]
  },
  {
   "cell_type": "code",
   "execution_count": 38,
   "id": "eb912926",
   "metadata": {},
   "outputs": [
    {
     "name": "stdout",
     "output_type": "stream",
     "text": [
      "\n",
      "Z = 254.2597 ± 3.1032 Ω (rel. 1.22%)\n",
      "R = 127.7322 ± 1.4956 Ω (rel. 1.171%)\n",
      "X = 219.8465 ± 2.7204 Ω (rel. 1.237%)\n",
      "\n"
     ]
    }
   ],
   "source": [
    "z = v_mean / i_mean\n",
    "r = z * np.cos(ϕ_mean)\n",
    "x = z * np.sin(ϕ_mean)\n",
    "\n",
    "def u_c(dfdx:float = 0.0, dfdy:float = 0.0, dfdz: float = 0.0, \n",
    "        ux: float = 0.0, uy: float = 0.0, uz: float = 0.0, \n",
    "        rxy: float = 0.0, rxz: float = 0.0, ryz: float = 0.0\n",
    "    ) -> float:\n",
    "\n",
    "    return np.sqrt(\n",
    "                    ((dfdx * ux) ** 2 + (dfdy * uy) ** 2 + (dfdz * uz) ** 2)\n",
    "                    + 2 * (\n",
    "                        (dfdx * dfdy * ux * uy * rxy) \n",
    "                        + (dfdx * dfdz * ux * uz * rxz) \n",
    "                        + (dfdy * dfdz * uy * uz * ryz)\n",
    "                    )\n",
    "                )\n",
    "\n",
    "# Para Z\n",
    "dzdv = 1 / i_mean\n",
    "dzdi = -v_mean / (i_mean ** 2)\n",
    "dzdϕ = 0\n",
    "\n",
    "z_u_c = u_c(dzdv, dzdi, dzdϕ, v_u_i, i_u_i, ϕ_u_i, cc_v_i, cc_v_ϕ, cc_i_ϕ)\n",
    "\n",
    "# Para R\n",
    "drdv = np.cos(ϕ_mean) / i_mean\n",
    "drdi = - (z * np.cos(ϕ_mean)) / i_mean\n",
    "drdϕ = - (z * np.sin(ϕ_mean))\n",
    "\n",
    "r_u_c = u_c(drdv, drdi, drdϕ, v_u_i, i_u_i, ϕ_u_i, cc_v_i, cc_v_ϕ, cc_i_ϕ)\n",
    "\n",
    "# Para X\n",
    "dxdv = np.sin(ϕ_mean) / i_mean\n",
    "dxdi = - (z * np.sin(ϕ_mean)) / i_mean\n",
    "dxdϕ = (z * np.cos(ϕ_mean))\n",
    "\n",
    "x_u_c = u_c(dxdv, dxdi, dxdϕ, v_u_i, i_u_i, ϕ_u_i, cc_v_i, cc_v_ϕ, cc_i_ϕ)\n",
    "\n",
    "print(f\"\"\"\n",
    "Z = {round(z,4)} ± {round(z_u_c,4)} Ω (rel. {round((z_u_c/z)*100,3)}%)\n",
    "R = {round(r,4)} ± {round(r_u_c,4)} Ω (rel. {round((r_u_c/r)*100,3)}%)\n",
    "X = {round(x,4)} ± {round(x_u_c,4)} Ω (rel. {round((x_u_c/x)*100,3)}%)\n",
    "\"\"\")"
   ]
  },
  {
   "cell_type": "markdown",
   "id": "ee1a48a8",
   "metadata": {},
   "source": [
    "---\n",
    "---\n",
    "# Ejercicio 4\n",
    "\n",
    "En una resistencia alimentada con una fuente de corriente de 10A, ±0,1% según expresaba\n",
    "su certificado de calibración con distribución normal y un intervalo de confianza del 95%, se\n",
    "obtuvo una medición de 123,38V y un desvío estándar experimental de 50mV con un voltímetro\n",
    "digital de de 4 ¾ dígitos y un error de ±(0,04%+1d) rangos de 400mV, 4V, 40V, 400V.\n",
    "\n",
    "Utilizando dicha resistencia como medidor indirecto de corriente, se midió sobre ella una\n",
    "tensión, con el voltímetro anterior, obteniéndose una indicación de 346,42mV y un desvío\n",
    "estándar experimental de 0,50mV. Determinar:\n",
    "\n",
    "a) Característica de la resistencia.\n",
    "\n",
    "La resistencia R se obtiene de la medición, aplicando la ley de Ohm:\n",
    "\n",
    "\\begin{equation}\n",
    "    R = \\frac{V}{I}\n",
    "\\end{equation}\n",
    "\n",
    "- Fuente de corriente: \n",
    "    \n",
    "Como me dice que su calibración es una distribución normal con un IC del 95% entonces k = 2.\n",
    "\n",
    "\\begin{equation}\n",
    "    I = 10A ± 0.1\\% \\space (k = 2, dist. normal)\n",
    "\\end{equation}\n",
    "\n",
    "Su incertidumbre est u_exp es:\n",
    "\n",
    "\\begin{equation}\n",
    "    \\mu_{exp} = \\frac{\\frac{0.1\\%}{100} \\cdot 10}{k} = \\frac{0.01}{2} = 0.005 A\n",
    "\\end{equation}"
   ]
  },
  {
   "cell_type": "code",
   "execution_count": 82,
   "id": "dadf2ae0",
   "metadata": {},
   "outputs": [],
   "source": [
    "i = 10\n",
    "k = 2\n",
    "i_u_exp = (((0.1/100)*i)/k)"
   ]
  },
  {
   "cell_type": "markdown",
   "id": "f81ef14a",
   "metadata": {},
   "source": [
    "- Tensión medida:\n",
    "\n",
    "\\begin{equation}\n",
    "    V = 123.38 V\n",
    "\\end{equation}\n",
    "\n",
    "con un desvío estandar de:\n",
    "\n",
    "\\begin{equation}\n",
    "    \\sigma = 0.050V\n",
    "\\end{equation}\n",
    "\n",
    "con un instrumento de exactitud:\n",
    "\n",
    "\\begin{equation}\n",
    "    ±(0.04\\%+1d) en el rango de 400V\n",
    "\\end{equation}\n",
    "\n",
    "como es un instrumento de 4 ¾ dígitos, entonces el error del instrumento es:\n",
    "\n",
    "\\begin{equation}\n",
    "    ±(0.04\\% + 0.01V) en el rango de 400V\n",
    "\\end{equation}\n",
    "\n",
    "por ende, si se midieron 123.38V, entonces:"
   ]
  },
  {
   "cell_type": "code",
   "execution_count": 83,
   "id": "7b751cb5",
   "metadata": {},
   "outputs": [],
   "source": [
    "v = 123.38\n",
    "err_v = v * 0.0004 + 0.01 # V"
   ]
  },
  {
   "cell_type": "markdown",
   "id": "1a6b660a",
   "metadata": {},
   "source": [
    "##### INCERTIDUMBRE TIPO B DEL VOLTIMETRO\n",
    "\n",
    "\\begin{equation}\n",
    "    \\mu_j = \\frac{err_V}{\\sqrt{k}}\n",
    "\\end{equation}\n",
    "\n",
    "Donde E:\n",
    "\n",
    "\\begin{equation}\n",
    "    err_{V} = V \\times 0.04\\% + 0.01V\n",
    "\\end{equation}\n",
    "\n",
    "Las especificaciones son un límite uniforme, por lo que se modela con distr.\n",
    "Rectangular, por ende el k = 3."
   ]
  },
  {
   "cell_type": "code",
   "execution_count": 84,
   "id": "80f61185",
   "metadata": {},
   "outputs": [
    {
     "name": "stdout",
     "output_type": "stream",
     "text": [
      "v_u_j = 0.034 V\n"
     ]
    }
   ],
   "source": [
    "k = 3\n",
    "v_u_j = err_v / np.sqrt(k) \n",
    "print(f'v_u_j = {v_u_j:0.3f} V')"
   ]
  },
  {
   "cell_type": "markdown",
   "id": "9e8b8a32",
   "metadata": {},
   "source": [
    "##### INCERTIDUMBRE TIPO A DEL VOLTIMETRO\n",
    "\n",
    "Como solo tenemos una muestra en el experimento entonces N = 1:\n",
    "\n",
    "\\begin{equation}\n",
    "    \\mu_i = \\frac{\\sigma}{\\sqrt{N}} = \\frac{0.050}{\\sqrt{1}} = 0.050 = \\sigma\n",
    "\\end{equation}"
   ]
  },
  {
   "cell_type": "code",
   "execution_count": 85,
   "id": "9af12b0f",
   "metadata": {},
   "outputs": [],
   "source": [
    "v_std = 0.05\n",
    "v_u_i = v_std"
   ]
  },
  {
   "cell_type": "markdown",
   "id": "fb11f670",
   "metadata": {},
   "source": [
    "##### INCERTIDUMBRE COMBINADA DEL VOLTIMETRO\n",
    "\n",
    "\\begin{equation}\n",
    "    \\mu_c = \\sqrt{\\mu_i^2 + \\mu_j^2}\n",
    "\\end{equation}"
   ]
  },
  {
   "cell_type": "code",
   "execution_count": 86,
   "id": "e8e6b9d4",
   "metadata": {},
   "outputs": [],
   "source": [
    "v_u_c = np.sqrt(v_u_i**2 + v_u_j**2)"
   ]
  },
  {
   "cell_type": "markdown",
   "id": "c5c5b6f1",
   "metadata": {},
   "source": [
    "- Resistencia\n",
    "\n",
    "\\begin{equation}\n",
    "    R = \\frac{V}{I}\n",
    "\\end{equation}\n",
    "\n",
    "derivadas:\n",
    "\n",
    "\\begin{equation}\n",
    "    \\frac{\\partial R}{\\partial V} = \\frac{1}{I}\\space , \\space \\frac{\\partial R}{\\partial I} = - \\frac{V}{I^2}\n",
    "\\end{equation}\n",
    "\n",
    "incertidumbre de R:\n",
    "\n",
    "\\begin{equation}\n",
    "    \\mu(R)^2 = (\\frac{\\partial R}{\\partial V} \\mu(V))^2 + (\\frac{\\partial R}{\\partial I} \\mu(I))^2\n",
    "\\end{equation}"
   ]
  },
  {
   "cell_type": "code",
   "execution_count": 87,
   "id": "6358b84e",
   "metadata": {},
   "outputs": [
    {
     "name": "stdout",
     "output_type": "stream",
     "text": [
      "R = (12.338 ± 0.009)Ω\n"
     ]
    }
   ],
   "source": [
    "r = v / i\n",
    "drdv = 1 / i\n",
    "drdi = - v / (i**2)\n",
    "\n",
    "r_u_c = u_c(dfdx=drdv, dfdy=drdi, ux=v_u_c, uy=i_u_exp)\n",
    "\n",
    "print(f'R = ({r:0.3f} ± {r_u_c:0.3f})Ω')"
   ]
  },
  {
   "cell_type": "markdown",
   "id": "827968f2",
   "metadata": {},
   "source": [
    "b) El resultado de ambas mediciones.\n",
    "\n",
    "- Primera medición"
   ]
  },
  {
   "cell_type": "code",
   "execution_count": 88,
   "id": "e239a6d1",
   "metadata": {},
   "outputs": [
    {
     "name": "stdout",
     "output_type": "stream",
     "text": [
      "\n",
      "V1 = (123.380 ± 0.061) V\n",
      "I1 = (10.000 ± 0.005) A\n",
      "\n"
     ]
    }
   ],
   "source": [
    "v1 = v\n",
    "i1 = i\n",
    "v_u_c_1 = v_u_c\n",
    "i_u_c_1 = i_u_exp\n",
    "print(f\"\"\"\n",
    "V1 = ({v1:0.3f} ± {v_u_c:0.3f}) V\n",
    "I1 = ({i1:0.3f} ± {i_u_exp:0.3f}) A\n",
    "\"\"\")"
   ]
  },
  {
   "cell_type": "markdown",
   "id": "ff4f94d7",
   "metadata": {},
   "source": [
    "- Segunda medición\n",
    "\n",
    "Con el mismo voltimetro se midió V = 346.42 mV con un desvío experimental de 0.50 mV. De esa medición se deduce que se uso el rango de 400 mV, por ende su exactitud esta dada por:\n",
    "\n",
    "\\begin{equation}\n",
    "    ±(0.04% + 0.01 V)\n",
    "\\end{equation}\n",
    "\n",
    "por ende, si se midieron 346.42 mV, entonces:"
   ]
  },
  {
   "cell_type": "code",
   "execution_count": 89,
   "id": "8e25d6f1",
   "metadata": {},
   "outputs": [],
   "source": [
    "v2 = 346.42\n",
    "err_v2 = v2 * 0.0004 + 0.01 # mV"
   ]
  },
  {
   "cell_type": "markdown",
   "id": "da92e81d",
   "metadata": {},
   "source": [
    "##### INCERTIDUMBRE TIPO B DEL VOLTIMETRO\n",
    "\n",
    "\\begin{equation}\n",
    "    \\mu_j = \\frac{err_V}{\\sqrt{k}}\n",
    "\\end{equation}\n",
    "\n",
    "Donde E:\n",
    "\n",
    "\\begin{equation}\n",
    "    err_{V} = V \\times 0.04\\% + 0.01V\n",
    "\\end{equation}\n",
    "\n",
    "Las especificaciones son un límite uniforme, por lo que se modela con distr.\n",
    "Rectangular, por ende el k = 3."
   ]
  },
  {
   "cell_type": "code",
   "execution_count": 90,
   "id": "07a4ce60",
   "metadata": {},
   "outputs": [
    {
     "name": "stdout",
     "output_type": "stream",
     "text": [
      "v_u_j = 0.086 mV\n"
     ]
    }
   ],
   "source": [
    "k = 3\n",
    "v_u_j_2 = err_v2 / np.sqrt(k) \n",
    "print(f'v_u_j = {v_u_j_2:0.3f} mV')"
   ]
  },
  {
   "cell_type": "markdown",
   "id": "a9d15478",
   "metadata": {},
   "source": [
    "##### INCERTIDUMBRE TIPO A DEL VOLTIMETRO\n",
    "\n",
    "Como solo tenemos una muestra en el experimento entonces N = 1:\n",
    "\n",
    "\\begin{equation}\n",
    "    \\mu_i = \\frac{\\sigma}{\\sqrt{N}} = \\frac{0.050 mV}{\\sqrt{1}} = 0.050 mV= \\sigma\n",
    "\\end{equation}"
   ]
  },
  {
   "cell_type": "code",
   "execution_count": 91,
   "id": "c925c541",
   "metadata": {},
   "outputs": [],
   "source": [
    "v_std_2 = 0.050 # mV\n",
    "v_u_i_2 = v_std_2"
   ]
  },
  {
   "cell_type": "markdown",
   "id": "a48e6c18",
   "metadata": {},
   "source": [
    "##### INCERTIDUMBRE COMBINADA DEL VOLTIMETRO\n",
    "\n",
    "\\begin{equation}\n",
    "    \\mu_c = \\sqrt{\\mu_i^2 + \\mu_j^2}\n",
    "\\end{equation}"
   ]
  },
  {
   "cell_type": "code",
   "execution_count": 92,
   "id": "30de5b76",
   "metadata": {},
   "outputs": [],
   "source": [
    "v_u_c_2 = np.sqrt(v_u_i_2**2 + v_u_j_2**2) # mV"
   ]
  },
  {
   "cell_type": "markdown",
   "id": "bf71fe23",
   "metadata": {},
   "source": [
    "Corriente indirecta:\n",
    "\n",
    "\\begin{equation}\n",
    "    I = \\frac{V}{R} = \\frac{346.42 mV}{12.338 Ω}\n",
    "\\end{equation}\n",
    "\n",
    "Incertidumbre I:\n",
    "\n",
    "\\begin{equation}\n",
    "    \\mu(I)^2 = (\\frac{\\partial I}{\\partial V} \\mu(V))^2 + (\\frac{\\partial I}{\\partial R} \\mu(R))^2\n",
    "\\end{equation}\n",
    "\n",
    "Derivadas:\n",
    "\n",
    "\\begin{equation}\n",
    "    \\frac{\\partial I}{\\partial V} = \\frac{1}{R}\\space , \\space \\frac{\\partial I}{\\partial R} = - \\frac{V}{R^2}\n",
    "\\end{equation}\n"
   ]
  },
  {
   "cell_type": "code",
   "execution_count": 93,
   "id": "c6bffb28",
   "metadata": {},
   "outputs": [
    {
     "name": "stdout",
     "output_type": "stream",
     "text": [
      "\n",
      "V2 = (346.420 ± 0.099) mV\n",
      "I2 = (28.077 ± 0.020) mA\n",
      "\n"
     ]
    }
   ],
   "source": [
    "i2 = v2 / r\n",
    "didv = 1 / r\n",
    "didr = - v2 / (r**2)\n",
    "\n",
    "i_u_c_2 = u_c(dfdx=didv, dfdy=didr, ux=v_u_c, uy=r_u_c)\n",
    "\n",
    "print(f\"\"\"\n",
    "V2 = ({v2:0.3f} ± {v_u_c_2:0.3f}) mV\n",
    "I2 = ({i2:0.3f} ± {i_u_c_2:0.3f}) mA\n",
    "\"\"\")"
   ]
  },
  {
   "cell_type": "markdown",
   "id": "d1cc98f7",
   "metadata": {},
   "source": [
    "c) Indique la potencia disipada en ambas mediciones\n",
    "\n",
    "\\begin{equation}\n",
    "    P = I^2R = VI\n",
    "\\end{equation}"
   ]
  },
  {
   "cell_type": "code",
   "execution_count": 95,
   "id": "3092c109",
   "metadata": {},
   "outputs": [
    {
     "name": "stdout",
     "output_type": "stream",
     "text": [
      "\n",
      "P2 = (1233.800 ± 0.865) W\n",
      "P2 = (0.0097 ± 0.008) W\n",
      "\n"
     ]
    }
   ],
   "source": [
    "# POTENCIA CASO 1\n",
    "p1 = v * i\n",
    "dp1dv = i\n",
    "dp1di = v\n",
    "\n",
    "p1_u_c = np.sqrt((dp1dv * v_u_c_1)**2 + (dp1di * i_u_c_1)**2)\n",
    "\n",
    "# POTENCIA CASO 2\n",
    "p2 = (v2/1000) * (i2/1000)\n",
    "dp2dv = i2/1000\n",
    "dp2di = v2/1000\n",
    "\n",
    "p2_u_c = np.sqrt((dp2dv * v_u_c_2)**2 + (dp2di * i_u_c_2)**2)\n",
    "\n",
    "print(f\"\"\"\n",
    "P2 = ({p1:0.3f} ± {p1_u_c:0.3f}) W\n",
    "P2 = ({p2:0.4f} ± {p2_u_c:0.3f}) W\n",
    "\"\"\")"
   ]
  }
 ],
 "metadata": {
  "kernelspec": {
   "display_name": "venv",
   "language": "python",
   "name": "python3"
  },
  "language_info": {
   "codemirror_mode": {
    "name": "ipython",
    "version": 3
   },
   "file_extension": ".py",
   "mimetype": "text/x-python",
   "name": "python",
   "nbconvert_exporter": "python",
   "pygments_lexer": "ipython3",
   "version": "3.10.4"
  }
 },
 "nbformat": 4,
 "nbformat_minor": 5
}
