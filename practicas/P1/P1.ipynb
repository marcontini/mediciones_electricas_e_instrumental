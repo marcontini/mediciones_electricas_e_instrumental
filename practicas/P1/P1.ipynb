{
 "cells": [
  {
   "cell_type": "markdown",
   "id": "b1017188",
   "metadata": {},
   "source": [
    "# Ejercicio 1\n",
    "\n",
    "Se realizan 20 mediciones con un multímetro digital, repetidas en las mismas\n",
    "condiciones ambientales, obteniéndose una media aritmética de:\n",
    "\n",
    "\n",
    "y una desviación estándar experimental:\n",
    "\n",
    "\\begin{equation}\n",
    "S = 1{,}489 \\ \\text{V}\n",
    "\\end{equation}\n",
    "\n",
    "\n",
    "El multímetro posee las siguientes especificaciones:\n",
    "\n",
    "- Rango: 200 V  \n",
    "- Dígitos: 3 y ½  \n",
    "- Error máximo:  \n",
    "\n",
    "\\begin{equation}\n",
    "\\pm (0,5\\% \\ \\text{lectura} + 3 \\ \\text{dígitos})\n",
    "\\end{equation}\n",
    "\n",
    "Como el instrumento es de 3½ dígitos en el rango de 200 V, la menor unidad\n",
    "que muestra en pantalla es:\n",
    "\n",
    "\\begin{equation}\n",
    "\\text{LSD} = 0,1 \\ \\text{V}\n",
    "\\end{equation}\n",
    "\n",
    "\n",
    "Por lo tanto, si se indica que:\n",
    "\n",
    "\\begin{equation}\n",
    "\\text{err}_{\\text{máx}} = \\pm(0,5\\% \\ \\text{lectura} + 3 \\ \\text{dígitos})\n",
    "\\end{equation}\n",
    "\n",
    "\n",
    "entonces para este rango:\n",
    "\n",
    "\\begin{equation}\n",
    "\\text{err}_{\\text{máx}} = \\pm(0,5\\% \\ \\text{lectura} + 0,3 \\ \\text{V})\n",
    "\\end{equation}\n",
    "\n",
    "---"
   ]
  },
  {
   "cell_type": "code",
   "execution_count": null,
   "id": "19d60f9a",
   "metadata": {},
   "outputs": [],
   "source": [
    "import numpy as np\n",
    "from scipy import stats"
   ]
  },
  {
   "cell_type": "markdown",
   "id": "b931a3f8",
   "metadata": {},
   "source": [
    "------\n",
    "##### DATOS"
   ]
  },
  {
   "cell_type": "code",
   "execution_count": 8,
   "id": "182151a3",
   "metadata": {},
   "outputs": [],
   "source": [
    "N = 20      # Número de muestras\n",
    "M = 100.145 # [V] Media aritmética\n",
    "S = 1.489   # [V] Desvío Estándar Experimental\n",
    "rango = 200             # [V]\n",
    "err_max = [0.005, 0.3]  # [V]"
   ]
  },
  {
   "cell_type": "markdown",
   "id": "4f216ca1",
   "metadata": {},
   "source": [
    "---\n",
    "##### INCERTIDUMBRE TIPO A\n",
    "\n",
    "\\begin{equation}\n",
    "    \\mu_a = \\frac{S}{\\sqrt{N}}\n",
    "\\end{equation}"
   ]
  },
  {
   "cell_type": "code",
   "execution_count": 10,
   "id": "f6c93cee",
   "metadata": {},
   "outputs": [
    {
     "name": "stdout",
     "output_type": "stream",
     "text": [
      "0.333\n"
     ]
    }
   ],
   "source": [
    "u_a = round(S / np.sqrt(N), 3)  # Estimamos el desvío verdadero a partir de N muestras\n",
    "print(u_a)"
   ]
  },
  {
   "cell_type": "markdown",
   "id": "e104d8f3",
   "metadata": {},
   "source": [
    "---\n",
    "##### INCERTIDUMBRE TIPO B\n",
    "\n",
    "\\begin{equation}\n",
    "    \\mu_b = \\frac{E}{\\sqrt{k}}\n",
    "\\end{equation}\n",
    "\n",
    "Donde E:\n",
    "\n",
    "\\begin{equation}\n",
    "    E = M \\times 0.5\\% + 0.3V\n",
    "\\end{equation}\n",
    "\n",
    "Las especificaciones son un límite uniforme, por lo que se modela con distr.\n",
    "Rectangular, por ende el k = 3."
   ]
  },
  {
   "cell_type": "code",
   "execution_count": 11,
   "id": "e74ff79a",
   "metadata": {},
   "outputs": [
    {
     "name": "stdout",
     "output_type": "stream",
     "text": [
      "0.462\n"
     ]
    }
   ],
   "source": [
    "err_lectura = err_max[0]\n",
    "err_rango = err_max[1]\n",
    "E = round(M * err_lectura + err_rango, 3)\n",
    "k = 3\n",
    "u_b = round(E / np.sqrt(k), 3)\n",
    "print(u_b)"
   ]
  },
  {
   "cell_type": "markdown",
   "id": "8a6c8e0c",
   "metadata": {},
   "source": [
    "---\n",
    "##### INCERTIDUMBRE COMBINADA\n",
    "\n",
    "\\begin{equation}\n",
    "    \\mu_c = \\sqrt{\\mu_a^2 + \\mu_b^2}\n",
    "\\end{equation}"
   ]
  },
  {
   "cell_type": "code",
   "execution_count": 13,
   "id": "442ac053",
   "metadata": {},
   "outputs": [],
   "source": [
    "u_c = round(np.sqrt(u_a**2 + u_b**2), 3)"
   ]
  },
  {
   "cell_type": "markdown",
   "id": "169875e3",
   "metadata": {},
   "source": [
    "---\n",
    "##### GRADOS DE LIBERTAD EFECTIVOS\n",
    "\n",
    "\\begin{equation}\n",
    "    v_{eff} = \\frac{\\mu_c^4}{\\frac{\\mu_a^4}{N-1}}\n",
    "\\end{equation}"
   ]
  },
  {
   "cell_type": "code",
   "execution_count": 14,
   "id": "9421699e",
   "metadata": {},
   "outputs": [],
   "source": [
    "v_eff = round((u_c**4) / ((u_a**4) / (N - 1)), 0)"
   ]
  },
  {
   "cell_type": "markdown",
   "id": "045a5eec",
   "metadata": {},
   "source": [
    "Con los grados de libertad puedo buscar en la tabla de T-de-Student bilateral el factor k\n",
    "para corregir la incertidumbre combinada para un 95% de confianza.\n",
    "\n",
    "Al ser un estudio bilateral el Intervalo de Confianza del 95% para una T-de-Student se representa de la siguiente manera:\n",
    "\n",
    "\\begin{equation}\n",
    "    IC = (-t_{0,975;v_{eff}} ; t_{0,975;v_{eff}})\n",
    "\\end{equation}\n",
    "\n",
    "Por ende, mi k ajustado va a ser:\n",
    "\n",
    "\\begin{equation}\n",
    "    k = t_{0,975;v_{eff}}\n",
    "\\end{equation}\n",
    "\n",
    "que, ejecutando el siguiente script, me da:"
   ]
  },
  {
   "cell_type": "code",
   "execution_count": 20,
   "id": "59fb9e3d",
   "metadata": {},
   "outputs": [],
   "source": [
    "# Grados de libertad\n",
    "v_eff = 163\n",
    "\n",
    "# Nivel de significancia para una cola (α/2)\n",
    "conf = 0.95\n",
    "alpha = (1 - conf) / 2\n",
    "\n",
    "# Valor crítico t\n",
    "t_critical = round(stats.t.ppf(1 - alpha, v_eff),3)"
   ]
  },
  {
   "cell_type": "markdown",
   "id": "930b8567",
   "metadata": {},
   "source": [
    "---\n",
    "##### INCERTIDUMBRE EXPANDIDA\n",
    "\n",
    "\\begin{equation}\n",
    "    \\mu_{exp} = t_{critical} \\cdot \\mu_c\n",
    "\\end{equation}"
   ]
  },
  {
   "cell_type": "code",
   "execution_count": 21,
   "id": "f698991f",
   "metadata": {},
   "outputs": [],
   "source": [
    "u_exp = round(t_critical * u_c,3)"
   ]
  },
  {
   "cell_type": "markdown",
   "id": "56353ba0",
   "metadata": {},
   "source": [
    "---\n",
    "##### RESULTADOS"
   ]
  },
  {
   "cell_type": "code",
   "execution_count": 34,
   "id": "deb22cc5",
   "metadata": {},
   "outputs": [
    {
     "name": "stdout",
     "output_type": "stream",
     "text": [
      "\n",
      "u_a   :  0.333 V\n",
      "u_b   :  0.462 V\n",
      "u_c   :   0.57 V\n",
      "v_eff :    163\n",
      "t_crit:  1.975\n",
      "u_exp :  1.126 V\n",
      "------------------------\n",
      "V = (100.145 ± 1.126) V\n",
      "\n"
     ]
    }
   ],
   "source": [
    "print(f\"\"\"\n",
    "{'u_a':<6}: {u_a:>6} V\n",
    "{'u_b':<6}: {u_b:>6} V\n",
    "{'u_c':<6}: {u_c:>6} V\n",
    "{'v_eff':<6}: {v_eff:>6}\n",
    "{'t_crit':<6}: {t_critical:>6}\n",
    "{'u_exp':<6}: {u_exp:>6} V\n",
    "------------------------\n",
    "V = ({M} ± {u_exp}) V\n",
    "\"\"\")"
   ]
  },
  {
   "cell_type": "markdown",
   "id": "b94a6cbd",
   "metadata": {},
   "source": [
    "---"
   ]
  },
  {
   "cell_type": "markdown",
   "id": "18f03754",
   "metadata": {},
   "source": [
    "---"
   ]
  },
  {
   "cell_type": "markdown",
   "id": "e6926bb0",
   "metadata": {},
   "source": [
    "# Ejercicio 2\n",
    "\n",
    "Considere cinco conjuntos independientes de observaciones simultáneas de las tres\n",
    "magnitudes de entrada V, I, y φ se obtienen en condiciones similares."
   ]
  },
  {
   "cell_type": "markdown",
   "id": "1e232c7b",
   "metadata": {},
   "source": [
    "![Texto alternativo](Captura.png)"
   ]
  },
  {
   "cell_type": "markdown",
   "id": "add3f48c",
   "metadata": {},
   "source": [
    "a) Cuáles son las circunstancias en las que debe observarse la correlación entre las\n",
    "magnitudes de entrada. ¿Un coeficiente de correlación igual a 0 (cero) indica que la\n",
    "correlación es alta o baja?\n",
    "\n",
    "    Se observa la correlación cuando interesa medir el grado de dependencia lineal entre dos magnitudes. Cuando el coeficiento de correlación es 0 indica que no hay dependencia lineal entre las magnitudes, o sea, no estan relacionadas linealmente las variables, aunque podrían estarlo no linealmente.\n",
    "\n",
    "b) Calcule la incertidumbre combinada de las cantidades R, X y Z."
   ]
  },
  {
   "cell_type": "code",
   "execution_count": 1,
   "id": "713e833b",
   "metadata": {},
   "outputs": [],
   "source": [
    "import numpy as np"
   ]
  },
  {
   "cell_type": "markdown",
   "id": "b7f447e5",
   "metadata": {},
   "source": [
    "---\n",
    "##### Variables"
   ]
  },
  {
   "cell_type": "code",
   "execution_count": 6,
   "id": "b1647f4e",
   "metadata": {},
   "outputs": [],
   "source": [
    "N = 5\n",
    "\n",
    "v_mean = 4.9990         # V\n",
    "i_mean = 19.6610/1000   # A\n",
    "ϕ_mean = 1.04446        # rad\n",
    "\n",
    "v_std = 0.0032          # V\n",
    "i_std = 0.0095/1000     # A\n",
    "ϕ_std = 0.00075         # rad\n",
    "\n",
    "cc_v_i = -0.36\n",
    "cc_v_ϕ = 0.86\n",
    "cc_i_ϕ = -0.65"
   ]
  },
  {
   "cell_type": "markdown",
   "id": "600a0694",
   "metadata": {},
   "source": [
    "---\n",
    "##### Incertidumbre Tipo A\n",
    "\n",
    "\\begin{equation}\n",
    "    \\mu_i = \\frac{\\sigma}{\\sqrt{N}}\n",
    "\\end{equation}"
   ]
  },
  {
   "cell_type": "code",
   "execution_count": 17,
   "id": "8a60029d",
   "metadata": {},
   "outputs": [],
   "source": [
    "v_u_i = v_std/np.sqrt(N)\n",
    "i_u_i = i_std/np.sqrt(N)\n",
    "ϕ_u_i = ϕ_std/np.sqrt(N)"
   ]
  },
  {
   "cell_type": "markdown",
   "id": "eb6a2c10",
   "metadata": {},
   "source": [
    "---\n",
    "#### Incertidumbre Combinada\n",
    "\n",
    "1) Modelo\n",
    "\n",
    "\\begin{equation}\n",
    "    Z = \\frac{V}{I}, \\space R = Z \\cos{\\phi}, \\space X = Z \\sin{\\phi}\n",
    "\\end{equation}\n",
    "\n",
    "2) Regla General (GUM)\n",
    "\n",
    "Para:\n",
    "\n",
    "\\begin{equation}\n",
    "    y = f(V, I, \\phi)\n",
    "\\end{equation}\n",
    "\n",
    "entonces:\n",
    "\n",
    "\\begin{equation}\n",
    "    u^2(y) = \\sum_i \\left( \\frac{\\partial f}{\\partial x_i} \\right)^{2} u^{2}(x_i)\n",
    "    \\;+\\; 2 \\sum_{i<j} \\frac{\\partial f}{\\partial x_i}\\frac{\\partial f}{\\partial x_j}\\,\n",
    "    u(x_i)u(x_j)\\,r(x_i,x_j)\n",
    "\\end{equation}\n",
    "\n",
    "3) Derivadas parciales necesarias\n",
    "\n",
    "- Para Z:\n",
    "\n",
    "\\begin{equation}\n",
    "    \\frac{\\partial Z}{\\partial V} = \\frac{1}{I}, \\space \\frac{\\partial Z}{\\partial I} = - \\frac{V}{I^2}, \\space \\frac{\\partial Z}{\\partial \\phi} = 0\n",
    "\\end{equation}\n",
    "\n",
    "- Para R:\n",
    "\n",
    "\\begin{equation}\n",
    "    \\frac{\\partial R}{\\partial V} = \\frac{\\cos{\\phi}}{I}, \\space \\frac{\\partial R}{\\partial I} = - \\frac{Z \\cos{\\phi}}{I}, \\space \\frac{\\partial Z}{\\partial \\phi} = - Z \\sin{\\phi}\n",
    "\\end{equation}\n",
    "\n",
    "- Para X:\n",
    "\n",
    "\\begin{equation}\n",
    "    \\frac{\\partial X}{\\partial V} = \\frac{\\sin{\\phi}}{I}, \\space \\frac{\\partial Z}{\\partial I} = - \\frac{Z \\sin{\\phi}}{I}, \\space \\frac{\\partial Z}{\\partial \\phi} = Z \\cos\n",
    "\\end{equation}"
   ]
  },
  {
   "cell_type": "code",
   "execution_count": 18,
   "id": "eb912926",
   "metadata": {},
   "outputs": [
    {
     "name": "stdout",
     "output_type": "stream",
     "text": [
      "\n",
      "Z = 254.2597 ± 0.1058 Ω (rel. 0.0004%)\n",
      "R = 127.7322 ± 0.0313 Ω (rel. 0.0002%)\n",
      "X = 219.8465 ± 0.1322 Ω (rel. 0.0006%)\n",
      "\n"
     ]
    }
   ],
   "source": [
    "z = v_mean / i_mean\n",
    "r = z * np.cos(ϕ_mean)\n",
    "x = z * np.sin(ϕ_mean)\n",
    "\n",
    "def u_c(dfdx:float, dfdy:float, dfdz: float, \n",
    "        ux: float, uy: float, uz: float, \n",
    "        rxy: float, rxz: float, ryz: float\n",
    "    ) -> float:\n",
    "\n",
    "    return np.sqrt(\n",
    "                    ((dfdx * ux) ** 2 + (dfdy * uy) ** 2 + (dfdz * uz) ** 2)\n",
    "                    + 2 * (\n",
    "                        (dfdx * dfdy * ux * uy * rxy) \n",
    "                        + (dfdx * dfdz * ux * uz * rxz) \n",
    "                        + (dfdy * dfdz * uy * uz * ryz)\n",
    "                    )\n",
    "                )\n",
    "\n",
    "# Para Z\n",
    "dzdv = 1 / i_mean\n",
    "dzdi = -v_mean / (i_mean ** 2)\n",
    "dzdϕ = 0\n",
    "\n",
    "z_u_c = u_c(dzdv, dzdi, dzdϕ, v_u_i, i_u_i, ϕ_u_i, cc_v_i, cc_v_ϕ, cc_i_ϕ)\n",
    "\n",
    "# Para R\n",
    "drdv = np.cos(ϕ_mean) / i_mean\n",
    "drdi = - (z * np.cos(ϕ_mean)) / i_mean\n",
    "drdϕ = - (z * np.sin(ϕ_mean))\n",
    "\n",
    "r_u_c = u_c(drdv, drdi, drdϕ, v_u_i, i_u_i, ϕ_u_i, cc_v_i, cc_v_ϕ, cc_i_ϕ)\n",
    "\n",
    "# Para X\n",
    "dxdv = np.sin(ϕ_mean) / i_mean\n",
    "dxdi = - (z * np.sin(ϕ_mean)) / i_mean\n",
    "dxdϕ = (z * np.cos(ϕ_mean))\n",
    "\n",
    "x_u_c = u_c(dxdv, dxdi, dxdϕ, v_u_i, i_u_i, ϕ_u_i, cc_v_i, cc_v_ϕ, cc_i_ϕ)\n",
    "\n",
    "print(f\"\"\"\n",
    "Z = {round(z,4)} ± {round(z_u_c,4)} Ω (rel. {round(z_u_c/z,4)}%)\n",
    "R = {round(r,4)} ± {round(r_u_c,4)} Ω (rel. {round(r_u_c/r,4)}%)\n",
    "X = {round(x,4)} ± {round(x_u_c,4)} Ω (rel. {round(x_u_c/x,4)}%)\n",
    "\"\"\")"
   ]
  }
 ],
 "metadata": {
  "kernelspec": {
   "display_name": "venv",
   "language": "python",
   "name": "python3"
  },
  "language_info": {
   "codemirror_mode": {
    "name": "ipython",
    "version": 3
   },
   "file_extension": ".py",
   "mimetype": "text/x-python",
   "name": "python",
   "nbconvert_exporter": "python",
   "pygments_lexer": "ipython3",
   "version": "3.10.4"
  }
 },
 "nbformat": 4,
 "nbformat_minor": 5
}
